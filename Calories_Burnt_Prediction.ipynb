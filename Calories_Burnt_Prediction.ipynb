{
  "nbformat": 4,
  "nbformat_minor": 0,
  "metadata": {
    "colab": {
      "provenance": []
    },
    "kernelspec": {
      "name": "python3",
      "display_name": "Python 3"
    },
    "language_info": {
      "name": "python"
    }
  },
  "cells": [
    {
      "cell_type": "code",
      "source": [
        "import numpy as np\n",
        "import pandas as pd\n",
        "from sklearn.model_selection import train_test_split\n",
        "from sklearn import metrics\n",
        "import seaborn as sb\n",
        "from sklearn.preprocessing import LabelEncoder, StandardScaler\n",
        "from sklearn.svm import SVC\n",
        "from xgboost import XGBRegressor\n",
        "from sklearn.linear_model import linearRegression, Lasso, Ridge\n",
        "from sklearn.ensemble import RnadomForestRegressor\n",
        "import warnings\n",
        "warnings.filterwarnings('ignore')"
      ],
      "metadata": {
        "id": "uZDwg_BAaSTA",
        "colab": {
          "base_uri": "https://localhost:8080/",
          "height": 402
        },
        "outputId": "84602821-926f-4416-8f99-9253bfa3d100"
      },
      "execution_count": 1,
      "outputs": [
        {
          "output_type": "error",
          "ename": "ImportError",
          "evalue": "cannot import name 'linearRegression' from 'sklearn.linear_model' (/usr/local/lib/python3.10/dist-packages/sklearn/linear_model/__init__.py)",
          "traceback": [
            "\u001b[0;31m---------------------------------------------------------------------------\u001b[0m",
            "\u001b[0;31mImportError\u001b[0m                               Traceback (most recent call last)",
            "\u001b[0;32m<ipython-input-1-dd5d9b18c153>\u001b[0m in \u001b[0;36m<cell line: 9>\u001b[0;34m()\u001b[0m\n\u001b[1;32m      7\u001b[0m \u001b[0;32mfrom\u001b[0m \u001b[0msklearn\u001b[0m\u001b[0;34m.\u001b[0m\u001b[0msvm\u001b[0m \u001b[0;32mimport\u001b[0m \u001b[0mSVC\u001b[0m\u001b[0;34m\u001b[0m\u001b[0;34m\u001b[0m\u001b[0m\n\u001b[1;32m      8\u001b[0m \u001b[0;32mfrom\u001b[0m \u001b[0mxgboost\u001b[0m \u001b[0;32mimport\u001b[0m \u001b[0mXGBRegressor\u001b[0m\u001b[0;34m\u001b[0m\u001b[0;34m\u001b[0m\u001b[0m\n\u001b[0;32m----> 9\u001b[0;31m \u001b[0;32mfrom\u001b[0m \u001b[0msklearn\u001b[0m\u001b[0;34m.\u001b[0m\u001b[0mlinear_model\u001b[0m \u001b[0;32mimport\u001b[0m \u001b[0mlinearRegression\u001b[0m\u001b[0;34m,\u001b[0m \u001b[0mLasso\u001b[0m\u001b[0;34m,\u001b[0m \u001b[0mRidge\u001b[0m\u001b[0;34m\u001b[0m\u001b[0;34m\u001b[0m\u001b[0m\n\u001b[0m\u001b[1;32m     10\u001b[0m \u001b[0;32mfrom\u001b[0m \u001b[0msklearn\u001b[0m\u001b[0;34m.\u001b[0m\u001b[0mensemble\u001b[0m \u001b[0;32mimport\u001b[0m \u001b[0mRnadomForestRegressor\u001b[0m\u001b[0;34m\u001b[0m\u001b[0;34m\u001b[0m\u001b[0m\n\u001b[1;32m     11\u001b[0m \u001b[0;32mimport\u001b[0m \u001b[0mwarnings\u001b[0m\u001b[0;34m\u001b[0m\u001b[0;34m\u001b[0m\u001b[0m\n",
            "\u001b[0;31mImportError\u001b[0m: cannot import name 'linearRegression' from 'sklearn.linear_model' (/usr/local/lib/python3.10/dist-packages/sklearn/linear_model/__init__.py)",
            "",
            "\u001b[0;31m---------------------------------------------------------------------------\u001b[0;32m\nNOTE: If your import is failing due to a missing package, you can\nmanually install dependencies using either !pip or !apt.\n\nTo view examples of installing some common dependencies, click the\n\"Open Examples\" button below.\n\u001b[0;31m---------------------------------------------------------------------------\u001b[0m\n"
          ],
          "errorDetails": {
            "actions": [
              {
                "action": "open_url",
                "actionText": "Open Examples",
                "url": "/notebooks/snippets/importing_libraries.ipynb"
              }
            ]
          }
        }
      ]
    },
    {
      "cell_type": "code",
      "source": [
        "Calories_df = pd.read_csv(\"/content/sample_data/Calories_df.csv\")\n",
        "Calories_df.head()"
      ],
      "metadata": {
        "id": "vqlA_D0yaSWW"
      },
      "execution_count": null,
      "outputs": []
    },
    {
      "cell_type": "code",
      "source": [
        "Calories_df.shape\n"
      ],
      "metadata": {
        "id": "6JTDgwCqaSfJ"
      },
      "execution_count": null,
      "outputs": []
    },
    {
      "cell_type": "code",
      "source": [
        "Calories_df.info()"
      ],
      "metadata": {
        "id": "44jz0gd9aSiO"
      },
      "execution_count": null,
      "outputs": []
    },
    {
      "cell_type": "code",
      "source": [
        "Calories_df.describe()"
      ],
      "metadata": {
        "id": "Fxm_wu1PaSlY"
      },
      "execution_count": null,
      "outputs": []
    },
    {
      "cell_type": "code",
      "source": [
        "#EDA\n",
        "sb.scatterplot(x='Height',y='Weight',data=Calories_df)\n",
        "plt.show()"
      ],
      "metadata": {
        "id": "qn79IQFSaSoh"
      },
      "execution_count": null,
      "outputs": []
    },
    {
      "cell_type": "code",
      "source": [
        "features = ['Age','Height','Weight','Duration']\n",
        "plt.subplots(figsize=(15,10))\n",
        "for i, col in enumerate(features):\n",
        "  plt.subplot(2,2,i+1)\n",
        "  x=Calories_df.sample(1000)\n",
        "sb.scatterplot(x=col,y='calories',data=x)\n",
        "plt.tight_layout()\n",
        "plt.show()"
      ],
      "metadata": {
        "id": "SSMlujqoaSs1"
      },
      "execution_count": null,
      "outputs": []
    },
    {
      "cell_type": "code",
      "source": [
        "# @title Default title text\n",
        "- Higher is the duration of the worout higher will be the calories burnt.\n",
        "- we cannot observe any relatio between height or weight with calories"
      ],
      "metadata": {
        "id": "v56uqcbTdSVv"
      },
      "execution_count": null,
      "outputs": []
    },
    {
      "cell_type": "code",
      "source": [
        "features = Calories_df.select_dtype(include='float').columns\n",
        "plt.subplots(figsize=(15,10))\n",
        "for i, col in enumerate(features):\n",
        "  plt.subplot(3,3,i+1)\n",
        "  sb.displot(Calories_df[col])\n",
        "  plt.tight_layout()\n",
        "  plt.show()"
      ],
      "metadata": {
        "id": "9NHIl3c4dSY1"
      },
      "execution_count": null,
      "outputs": []
    },
    {
      "cell_type": "code",
      "source": [
        "\n",
        "-graphs seems to follow close to normal distribution"
      ],
      "metadata": {
        "id": "qxAJt71hdScd"
      },
      "execution_count": null,
      "outputs": []
    },
    {
      "cell_type": "code",
      "source": [
        "Caories_df({'male':0,'female':1},\n",
        "           inplace=True)\n",
        "Calories_df.head()"
      ],
      "metadata": {
        "id": "K-MGu14udSf0"
      },
      "execution_count": null,
      "outputs": []
    },
    {
      "cell_type": "code",
      "source": [
        "plt.figure(figsize=(8,8))\n",
        "sb.heatmap(Calories_df.corr()>0.9,annot=True,cbar=False)\n",
        "plt.show()"
      ],
      "metadata": {
        "id": "3BSV_KjEaSwU"
      },
      "execution_count": null,
      "outputs": []
    },
    {
      "cell_type": "code",
      "source": [
        "to_remove = ['Weight','Duration']\n",
        "Calories_df.drop(to_remove,axis=1,inplace=True)"
      ],
      "metadata": {
        "id": "oxbRdyybl0ne"
      },
      "execution_count": null,
      "outputs": []
    },
    {
      "cell_type": "code",
      "source": [
        "#### MODEL TRAINING ######"
      ],
      "metadata": {
        "id": "B9yN-Tnhl0qN"
      },
      "execution_count": null,
      "outputs": []
    },
    {
      "cell_type": "code",
      "source": [
        "X = Calories_df.drop(['Calories','User_ID'])\n",
        "target = Calories_df['Calories'].values\n",
        "X_train,X_test,Y_train,Y_test = train_test_split(X,target,test_size=0.1,random_state=22)\n",
        "X_train.shape\n",
        "X_test.shape"
      ],
      "metadata": {
        "id": "ZOjJFP9jl0tG"
      },
      "execution_count": null,
      "outputs": []
    },
    {
      "cell_type": "code",
      "source": [
        "## NORMALISATION"
      ],
      "metadata": {
        "id": "X_GmiwAwnGJ8"
      },
      "execution_count": null,
      "outputs": []
    },
    {
      "cell_type": "code",
      "source": [
        "scaler = StandardScaler()\n",
        "X_train  =scaler.fit_transform(X_train)\n",
        "X_test  =scaler.fit_transform(X_test)"
      ],
      "metadata": {
        "id": "lntVyv34nGNz"
      },
      "execution_count": null,
      "outputs": []
    },
    {
      "cell_type": "code",
      "source": [
        "# MODEL TRAINING ##"
      ],
      "metadata": {
        "id": "3g6RhqhHnGQx"
      },
      "execution_count": null,
      "outputs": []
    },
    {
      "cell_type": "code",
      "source": [
        "models = [LinearRegression, Lasso, Ridge, XGBRegressor, RandomForestRegressor]\n",
        "for i in range(5):\n",
        "  model[i].fit(X_train,Y_train)\n",
        "print(f'{model[i]}: ')\n",
        "train_preds = model[i].predict(X_train)\n",
        "print('Training Error :', mae(Y_train,train_preds))\n",
        "test_preds = model[i].predict(X_test)\n",
        "print('validation Error :',mae(Y_test,test_preds))\n",
        "#predicting the test dataset\n",
        "Y_pred[i] = model[i].predict(X_test)\n",
        "from sklearn.metrics import accuracy_score\n",
        "score[i] = accuracy_score(Y_test,Y_pred[i])\n",
        "print('Accuracy_score :', score[i])\n",
        "print()"
      ],
      "metadata": {
        "id": "mepjAksXl0wZ"
      },
      "execution_count": null,
      "outputs": []
    },
    {
      "cell_type": "code",
      "source": [
        "# pickling the model\n",
        "import pickle\n",
        "pickle_out = open(\"model.pkl\")\n",
        "pickle.dump(model[i],pickle_out)\n",
        "pickle_out.close()"
      ],
      "metadata": {
        "id": "DNd4mprfskQo"
      },
      "execution_count": null,
      "outputs": []
    },
    {
      "cell_type": "code",
      "source": [],
      "metadata": {
        "id": "772bauWmsk4Y"
      },
      "execution_count": null,
      "outputs": []
    },
    {
      "cell_type": "code",
      "source": [],
      "metadata": {
        "id": "8BHf2kgOsk71"
      },
      "execution_count": null,
      "outputs": []
    },
    {
      "cell_type": "code",
      "execution_count": null,
      "metadata": {
        "id": "j69yvDeZRQvM"
      },
      "outputs": [],
      "source": [
        "import numpy as np\n",
        "import pickle\n",
        "import streamlit as st\n",
        "loaded_model = pickle.load(open('','rb'))\n"
      ]
    },
    {
      "cell_type": "code",
      "source": [
        "def\n",
        "Inventory_Demand_Forecasting(input_data);\n",
        "input_data_as_nparray = np.asarray(input_data)\n",
        "input_data_reshaped = input_data_as_nparray.reshape(1,-1)\n",
        "forecasting = loaded_model.predict(input_data_reshaped)\n",
        "if forecasting == 0:\n",
        "  return"
      ],
      "metadata": {
        "id": "MhXzRiOaRuSh"
      },
      "execution_count": null,
      "outputs": []
    },
    {
      "cell_type": "code",
      "source": [],
      "metadata": {
        "id": "Qb5scTFURuVs"
      },
      "execution_count": null,
      "outputs": []
    },
    {
      "cell_type": "code",
      "source": [],
      "metadata": {
        "id": "XvH_vfeSRuZN"
      },
      "execution_count": null,
      "outputs": []
    }
  ]
}